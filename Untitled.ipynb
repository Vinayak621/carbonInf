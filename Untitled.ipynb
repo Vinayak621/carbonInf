{
 "cells": [
  {
   "cell_type": "code",
   "execution_count": 1,
   "id": "a4fcc09e",
   "metadata": {},
   "outputs": [],
   "source": [
    "import pandas as pd\n",
    "import numpy as np\n",
    "import numpy.random as nr\n",
    "import sys\n",
    "import seaborn as sns\n",
    "import matplotlib.pyplot as plt\n",
    "from sklearn.model_selection import  train_test_split\n",
    "\n",
    "\n",
    "# load the cleaned dataset\n",
    "data = pd.read_csv(r'data_cleaned.csv')"
   ]
  },
  {
   "cell_type": "code",
   "execution_count": 2,
   "id": "5f00b941",
   "metadata": {},
   "outputs": [],
   "source": [
    "data1=data.copy()"
   ]
  },
  {
   "cell_type": "code",
   "execution_count": 3,
   "id": "26a7af00",
   "metadata": {},
   "outputs": [],
   "source": [
    "data1['gdp'] = data1['gdp'].astype(float).apply(lambda x: '{:.0f}'.format(x))\n",
    "data1['urb_pop'] = data1['urb_pop'].astype(float).apply(lambda x: '{:.0f}'.format(x))"
   ]
  },
  {
   "cell_type": "code",
   "execution_count": 4,
   "id": "9679df08",
   "metadata": {},
   "outputs": [
    {
     "name": "stdout",
     "output_type": "stream",
     "text": [
      "Shape of the dataset after removing the ARE outliers:\n"
     ]
    },
    {
     "data": {
      "text/plain": [
       "(1686, 18)"
      ]
     },
     "execution_count": 4,
     "metadata": {},
     "output_type": "execute_result"
    }
   ],
   "source": [
    "data1 = data1[data1['country']!='ARE']\n",
    "\n",
    "# print shape after removing the outliers\n",
    "print(\"Shape of the dataset after removing the ARE outliers:\")\n",
    "data1.shape"
   ]
  },
  {
   "cell_type": "code",
   "execution_count": 66,
   "id": "f0f5a891",
   "metadata": {},
   "outputs": [],
   "source": [
    "data1['classify'] = np.where((data1['cereal_yield'] > 550) & (data1['fdi_perc_gdp'] > 2.0) & (data1['en_per_gdp'] > 0.25) & (data1['en_per_cap'] > 250), 'red', 'green')\n"
   ]
  },
  {
   "cell_type": "code",
   "execution_count": 67,
   "id": "88300db1",
   "metadata": {},
   "outputs": [
    {
     "data": {
      "text/html": [
       "<div>\n",
       "<style scoped>\n",
       "    .dataframe tbody tr th:only-of-type {\n",
       "        vertical-align: middle;\n",
       "    }\n",
       "\n",
       "    .dataframe tbody tr th {\n",
       "        vertical-align: top;\n",
       "    }\n",
       "\n",
       "    .dataframe thead th {\n",
       "        text-align: right;\n",
       "    }\n",
       "</style>\n",
       "<table border=\"1\" class=\"dataframe\">\n",
       "  <thead>\n",
       "    <tr style=\"text-align: right;\">\n",
       "      <th></th>\n",
       "      <th>cereal_yield</th>\n",
       "      <th>fdi_perc_gdp</th>\n",
       "      <th>en_per_gdp</th>\n",
       "      <th>en_per_cap</th>\n",
       "      <th>co2_ttl</th>\n",
       "      <th>co2_per_cap</th>\n",
       "      <th>co2_per_gdp</th>\n",
       "      <th>pop_urb_aggl_perc</th>\n",
       "      <th>prot_area_perc</th>\n",
       "      <th>gdp</th>\n",
       "      <th>gni_per_cap</th>\n",
       "      <th>under_5_mort_rate</th>\n",
       "      <th>pop_growth_perc</th>\n",
       "      <th>pop</th>\n",
       "      <th>urb_pop_growth_perc</th>\n",
       "      <th>urb_pop</th>\n",
       "      <th>classify</th>\n",
       "    </tr>\n",
       "  </thead>\n",
       "  <tbody>\n",
       "    <tr>\n",
       "      <th>0</th>\n",
       "      <td>417.4</td>\n",
       "      <td>5.449515</td>\n",
       "      <td>179.271884</td>\n",
       "      <td>565.451027</td>\n",
       "      <td>4367.397</td>\n",
       "      <td>0.409949</td>\n",
       "      <td>129.971142</td>\n",
       "      <td>15.290728</td>\n",
       "      <td>12.399822</td>\n",
       "      <td>12193746625</td>\n",
       "      <td>820.0</td>\n",
       "      <td>239.1</td>\n",
       "      <td>3.034866</td>\n",
       "      <td>10653515.0</td>\n",
       "      <td>6.687032</td>\n",
       "      <td>4099473</td>\n",
       "      <td>green</td>\n",
       "    </tr>\n",
       "    <tr>\n",
       "      <th>2</th>\n",
       "      <td>2666.1</td>\n",
       "      <td>1.285579</td>\n",
       "      <td>173.122857</td>\n",
       "      <td>1434.960601</td>\n",
       "      <td>117021.304</td>\n",
       "      <td>3.536073</td>\n",
       "      <td>426.614517</td>\n",
       "      <td>39.119646</td>\n",
       "      <td>4.772468</td>\n",
       "      <td>189719989668</td>\n",
       "      <td>3960.0</td>\n",
       "      <td>25.8</td>\n",
       "      <td>1.372593</td>\n",
       "      <td>33093579.0</td>\n",
       "      <td>1.762636</td>\n",
       "      <td>28903932</td>\n",
       "      <td>green</td>\n",
       "    </tr>\n",
       "    <tr>\n",
       "      <th>3</th>\n",
       "      <td>1603.3</td>\n",
       "      <td>1.306912</td>\n",
       "      <td>208.686644</td>\n",
       "      <td>4926.727783</td>\n",
       "      <td>281530.258</td>\n",
       "      <td>16.288490</td>\n",
       "      <td>689.948873</td>\n",
       "      <td>60.356798</td>\n",
       "      <td>7.915273</td>\n",
       "      <td>329965465819</td>\n",
       "      <td>18380.0</td>\n",
       "      <td>8.6</td>\n",
       "      <td>1.274577</td>\n",
       "      <td>17284000.0</td>\n",
       "      <td>1.438378</td>\n",
       "      <td>14784734</td>\n",
       "      <td>green</td>\n",
       "    </tr>\n",
       "    <tr>\n",
       "      <th>4</th>\n",
       "      <td>5463.0</td>\n",
       "      <td>0.209142</td>\n",
       "      <td>128.939160</td>\n",
       "      <td>3381.073790</td>\n",
       "      <td>65888.656</td>\n",
       "      <td>8.448456</td>\n",
       "      <td>322.186648</td>\n",
       "      <td>19.746121</td>\n",
       "      <td>20.991143</td>\n",
       "      <td>172166366529</td>\n",
       "      <td>21200.0</td>\n",
       "      <td>8.9</td>\n",
       "      <td>1.134999</td>\n",
       "      <td>7798899.0</td>\n",
       "      <td>1.134999</td>\n",
       "      <td>5131676</td>\n",
       "      <td>green</td>\n",
       "    </tr>\n",
       "    <tr>\n",
       "      <th>5</th>\n",
       "      <td>2585.7</td>\n",
       "      <td>0.004491</td>\n",
       "      <td>154.496130</td>\n",
       "      <td>116.511476</td>\n",
       "      <td>15940.449</td>\n",
       "      <td>0.147913</td>\n",
       "      <td>196.135682</td>\n",
       "      <td>9.443704</td>\n",
       "      <td>1.537922</td>\n",
       "      <td>30957444767</td>\n",
       "      <td>300.0</td>\n",
       "      <td>137.9</td>\n",
       "      <td>2.359199</td>\n",
       "      <td>107768749.0</td>\n",
       "      <td>4.260207</td>\n",
       "      <td>21747734</td>\n",
       "      <td>green</td>\n",
       "    </tr>\n",
       "  </tbody>\n",
       "</table>\n",
       "</div>"
      ],
      "text/plain": [
       "   cereal_yield  fdi_perc_gdp  en_per_gdp   en_per_cap     co2_ttl  \\\n",
       "0         417.4      5.449515  179.271884   565.451027    4367.397   \n",
       "2        2666.1      1.285579  173.122857  1434.960601  117021.304   \n",
       "3        1603.3      1.306912  208.686644  4926.727783  281530.258   \n",
       "4        5463.0      0.209142  128.939160  3381.073790   65888.656   \n",
       "5        2585.7      0.004491  154.496130   116.511476   15940.449   \n",
       "\n",
       "   co2_per_cap  co2_per_gdp  pop_urb_aggl_perc  prot_area_perc           gdp  \\\n",
       "0     0.409949   129.971142          15.290728       12.399822   12193746625   \n",
       "2     3.536073   426.614517          39.119646        4.772468  189719989668   \n",
       "3    16.288490   689.948873          60.356798        7.915273  329965465819   \n",
       "4     8.448456   322.186648          19.746121       20.991143  172166366529   \n",
       "5     0.147913   196.135682           9.443704        1.537922   30957444767   \n",
       "\n",
       "   gni_per_cap  under_5_mort_rate  pop_growth_perc          pop  \\\n",
       "0        820.0              239.1         3.034866   10653515.0   \n",
       "2       3960.0               25.8         1.372593   33093579.0   \n",
       "3      18380.0                8.6         1.274577   17284000.0   \n",
       "4      21200.0                8.9         1.134999    7798899.0   \n",
       "5        300.0              137.9         2.359199  107768749.0   \n",
       "\n",
       "   urb_pop_growth_perc   urb_pop classify  \n",
       "0             6.687032   4099473    green  \n",
       "2             1.762636  28903932    green  \n",
       "3             1.438378  14784734    green  \n",
       "4             1.134999   5131676    green  \n",
       "5             4.260207  21747734    green  "
      ]
     },
     "execution_count": 67,
     "metadata": {},
     "output_type": "execute_result"
    }
   ],
   "source": [
    "data1.head()"
   ]
  },
  {
   "cell_type": "code",
   "execution_count": 57,
   "id": "d2a11e23",
   "metadata": {},
   "outputs": [
    {
     "ename": "KeyError",
     "evalue": "\"['country'] not found in axis\"",
     "output_type": "error",
     "traceback": [
      "\u001b[1;31m---------------------------------------------------------------------------\u001b[0m",
      "\u001b[1;31mKeyError\u001b[0m                                  Traceback (most recent call last)",
      "\u001b[1;32m~\\AppData\\Local\\Temp\\ipykernel_4196\\475425459.py\u001b[0m in \u001b[0;36m<module>\u001b[1;34m\u001b[0m\n\u001b[1;32m----> 1\u001b[1;33m \u001b[0mdata1\u001b[0m\u001b[1;33m=\u001b[0m\u001b[0mdata1\u001b[0m\u001b[1;33m.\u001b[0m\u001b[0mdrop\u001b[0m\u001b[1;33m(\u001b[0m\u001b[1;34m'country'\u001b[0m\u001b[1;33m,\u001b[0m\u001b[0maxis\u001b[0m\u001b[1;33m=\u001b[0m\u001b[1;36m1\u001b[0m\u001b[1;33m)\u001b[0m\u001b[1;33m\u001b[0m\u001b[1;33m\u001b[0m\u001b[0m\n\u001b[0m",
      "\u001b[1;32m~\\anaconda3\\lib\\site-packages\\pandas\\util\\_decorators.py\u001b[0m in \u001b[0;36mwrapper\u001b[1;34m(*args, **kwargs)\u001b[0m\n\u001b[0;32m    309\u001b[0m                     \u001b[0mstacklevel\u001b[0m\u001b[1;33m=\u001b[0m\u001b[0mstacklevel\u001b[0m\u001b[1;33m,\u001b[0m\u001b[1;33m\u001b[0m\u001b[1;33m\u001b[0m\u001b[0m\n\u001b[0;32m    310\u001b[0m                 )\n\u001b[1;32m--> 311\u001b[1;33m             \u001b[1;32mreturn\u001b[0m \u001b[0mfunc\u001b[0m\u001b[1;33m(\u001b[0m\u001b[1;33m*\u001b[0m\u001b[0margs\u001b[0m\u001b[1;33m,\u001b[0m \u001b[1;33m**\u001b[0m\u001b[0mkwargs\u001b[0m\u001b[1;33m)\u001b[0m\u001b[1;33m\u001b[0m\u001b[1;33m\u001b[0m\u001b[0m\n\u001b[0m\u001b[0;32m    312\u001b[0m \u001b[1;33m\u001b[0m\u001b[0m\n\u001b[0;32m    313\u001b[0m         \u001b[1;32mreturn\u001b[0m \u001b[0mwrapper\u001b[0m\u001b[1;33m\u001b[0m\u001b[1;33m\u001b[0m\u001b[0m\n",
      "\u001b[1;32m~\\anaconda3\\lib\\site-packages\\pandas\\core\\frame.py\u001b[0m in \u001b[0;36mdrop\u001b[1;34m(self, labels, axis, index, columns, level, inplace, errors)\u001b[0m\n\u001b[0;32m   4955\u001b[0m                 \u001b[0mweight\u001b[0m  \u001b[1;36m1.0\u001b[0m     \u001b[1;36m0.8\u001b[0m\u001b[1;33m\u001b[0m\u001b[1;33m\u001b[0m\u001b[0m\n\u001b[0;32m   4956\u001b[0m         \"\"\"\n\u001b[1;32m-> 4957\u001b[1;33m         return super().drop(\n\u001b[0m\u001b[0;32m   4958\u001b[0m             \u001b[0mlabels\u001b[0m\u001b[1;33m=\u001b[0m\u001b[0mlabels\u001b[0m\u001b[1;33m,\u001b[0m\u001b[1;33m\u001b[0m\u001b[1;33m\u001b[0m\u001b[0m\n\u001b[0;32m   4959\u001b[0m             \u001b[0maxis\u001b[0m\u001b[1;33m=\u001b[0m\u001b[0maxis\u001b[0m\u001b[1;33m,\u001b[0m\u001b[1;33m\u001b[0m\u001b[1;33m\u001b[0m\u001b[0m\n",
      "\u001b[1;32m~\\anaconda3\\lib\\site-packages\\pandas\\core\\generic.py\u001b[0m in \u001b[0;36mdrop\u001b[1;34m(self, labels, axis, index, columns, level, inplace, errors)\u001b[0m\n\u001b[0;32m   4265\u001b[0m         \u001b[1;32mfor\u001b[0m \u001b[0maxis\u001b[0m\u001b[1;33m,\u001b[0m \u001b[0mlabels\u001b[0m \u001b[1;32min\u001b[0m \u001b[0maxes\u001b[0m\u001b[1;33m.\u001b[0m\u001b[0mitems\u001b[0m\u001b[1;33m(\u001b[0m\u001b[1;33m)\u001b[0m\u001b[1;33m:\u001b[0m\u001b[1;33m\u001b[0m\u001b[1;33m\u001b[0m\u001b[0m\n\u001b[0;32m   4266\u001b[0m             \u001b[1;32mif\u001b[0m \u001b[0mlabels\u001b[0m \u001b[1;32mis\u001b[0m \u001b[1;32mnot\u001b[0m \u001b[1;32mNone\u001b[0m\u001b[1;33m:\u001b[0m\u001b[1;33m\u001b[0m\u001b[1;33m\u001b[0m\u001b[0m\n\u001b[1;32m-> 4267\u001b[1;33m                 \u001b[0mobj\u001b[0m \u001b[1;33m=\u001b[0m \u001b[0mobj\u001b[0m\u001b[1;33m.\u001b[0m\u001b[0m_drop_axis\u001b[0m\u001b[1;33m(\u001b[0m\u001b[0mlabels\u001b[0m\u001b[1;33m,\u001b[0m \u001b[0maxis\u001b[0m\u001b[1;33m,\u001b[0m \u001b[0mlevel\u001b[0m\u001b[1;33m=\u001b[0m\u001b[0mlevel\u001b[0m\u001b[1;33m,\u001b[0m \u001b[0merrors\u001b[0m\u001b[1;33m=\u001b[0m\u001b[0merrors\u001b[0m\u001b[1;33m)\u001b[0m\u001b[1;33m\u001b[0m\u001b[1;33m\u001b[0m\u001b[0m\n\u001b[0m\u001b[0;32m   4268\u001b[0m \u001b[1;33m\u001b[0m\u001b[0m\n\u001b[0;32m   4269\u001b[0m         \u001b[1;32mif\u001b[0m \u001b[0minplace\u001b[0m\u001b[1;33m:\u001b[0m\u001b[1;33m\u001b[0m\u001b[1;33m\u001b[0m\u001b[0m\n",
      "\u001b[1;32m~\\anaconda3\\lib\\site-packages\\pandas\\core\\generic.py\u001b[0m in \u001b[0;36m_drop_axis\u001b[1;34m(self, labels, axis, level, errors, consolidate, only_slice)\u001b[0m\n\u001b[0;32m   4309\u001b[0m                 \u001b[0mnew_axis\u001b[0m \u001b[1;33m=\u001b[0m \u001b[0maxis\u001b[0m\u001b[1;33m.\u001b[0m\u001b[0mdrop\u001b[0m\u001b[1;33m(\u001b[0m\u001b[0mlabels\u001b[0m\u001b[1;33m,\u001b[0m \u001b[0mlevel\u001b[0m\u001b[1;33m=\u001b[0m\u001b[0mlevel\u001b[0m\u001b[1;33m,\u001b[0m \u001b[0merrors\u001b[0m\u001b[1;33m=\u001b[0m\u001b[0merrors\u001b[0m\u001b[1;33m)\u001b[0m\u001b[1;33m\u001b[0m\u001b[1;33m\u001b[0m\u001b[0m\n\u001b[0;32m   4310\u001b[0m             \u001b[1;32melse\u001b[0m\u001b[1;33m:\u001b[0m\u001b[1;33m\u001b[0m\u001b[1;33m\u001b[0m\u001b[0m\n\u001b[1;32m-> 4311\u001b[1;33m                 \u001b[0mnew_axis\u001b[0m \u001b[1;33m=\u001b[0m \u001b[0maxis\u001b[0m\u001b[1;33m.\u001b[0m\u001b[0mdrop\u001b[0m\u001b[1;33m(\u001b[0m\u001b[0mlabels\u001b[0m\u001b[1;33m,\u001b[0m \u001b[0merrors\u001b[0m\u001b[1;33m=\u001b[0m\u001b[0merrors\u001b[0m\u001b[1;33m)\u001b[0m\u001b[1;33m\u001b[0m\u001b[1;33m\u001b[0m\u001b[0m\n\u001b[0m\u001b[0;32m   4312\u001b[0m             \u001b[0mindexer\u001b[0m \u001b[1;33m=\u001b[0m \u001b[0maxis\u001b[0m\u001b[1;33m.\u001b[0m\u001b[0mget_indexer\u001b[0m\u001b[1;33m(\u001b[0m\u001b[0mnew_axis\u001b[0m\u001b[1;33m)\u001b[0m\u001b[1;33m\u001b[0m\u001b[1;33m\u001b[0m\u001b[0m\n\u001b[0;32m   4313\u001b[0m \u001b[1;33m\u001b[0m\u001b[0m\n",
      "\u001b[1;32m~\\anaconda3\\lib\\site-packages\\pandas\\core\\indexes\\base.py\u001b[0m in \u001b[0;36mdrop\u001b[1;34m(self, labels, errors)\u001b[0m\n\u001b[0;32m   6659\u001b[0m         \u001b[1;32mif\u001b[0m \u001b[0mmask\u001b[0m\u001b[1;33m.\u001b[0m\u001b[0many\u001b[0m\u001b[1;33m(\u001b[0m\u001b[1;33m)\u001b[0m\u001b[1;33m:\u001b[0m\u001b[1;33m\u001b[0m\u001b[1;33m\u001b[0m\u001b[0m\n\u001b[0;32m   6660\u001b[0m             \u001b[1;32mif\u001b[0m \u001b[0merrors\u001b[0m \u001b[1;33m!=\u001b[0m \u001b[1;34m\"ignore\"\u001b[0m\u001b[1;33m:\u001b[0m\u001b[1;33m\u001b[0m\u001b[1;33m\u001b[0m\u001b[0m\n\u001b[1;32m-> 6661\u001b[1;33m                 \u001b[1;32mraise\u001b[0m \u001b[0mKeyError\u001b[0m\u001b[1;33m(\u001b[0m\u001b[1;34mf\"{list(labels[mask])} not found in axis\"\u001b[0m\u001b[1;33m)\u001b[0m\u001b[1;33m\u001b[0m\u001b[1;33m\u001b[0m\u001b[0m\n\u001b[0m\u001b[0;32m   6662\u001b[0m             \u001b[0mindexer\u001b[0m \u001b[1;33m=\u001b[0m \u001b[0mindexer\u001b[0m\u001b[1;33m[\u001b[0m\u001b[1;33m~\u001b[0m\u001b[0mmask\u001b[0m\u001b[1;33m]\u001b[0m\u001b[1;33m\u001b[0m\u001b[1;33m\u001b[0m\u001b[0m\n\u001b[0;32m   6663\u001b[0m         \u001b[1;32mreturn\u001b[0m \u001b[0mself\u001b[0m\u001b[1;33m.\u001b[0m\u001b[0mdelete\u001b[0m\u001b[1;33m(\u001b[0m\u001b[0mindexer\u001b[0m\u001b[1;33m)\u001b[0m\u001b[1;33m\u001b[0m\u001b[1;33m\u001b[0m\u001b[0m\n",
      "\u001b[1;31mKeyError\u001b[0m: \"['country'] not found in axis\""
     ]
    }
   ],
   "source": [
    "data1=data1.drop('country',axis=1)"
   ]
  },
  {
   "cell_type": "code",
   "execution_count": 18,
   "id": "d5100a48",
   "metadata": {},
   "outputs": [],
   "source": [
    "data1=data1.drop('year',axis=1)"
   ]
  },
  {
   "cell_type": "code",
   "execution_count": 68,
   "id": "84b549fe",
   "metadata": {},
   "outputs": [
    {
     "data": {
      "text/plain": [
       "green    861\n",
       "red      825\n",
       "Name: classify, dtype: int64"
      ]
     },
     "execution_count": 68,
     "metadata": {},
     "output_type": "execute_result"
    }
   ],
   "source": [
    "data1['classify'].value_counts()"
   ]
  },
  {
   "cell_type": "code",
   "execution_count": 69,
   "id": "1845f686",
   "metadata": {},
   "outputs": [],
   "source": [
    "feature_cols = ['cereal_yield','fdi_perc_gdp','gni_per_cap', 'en_per_cap', 'pop_urb_aggl_perc',\n",
    "                    'prot_area_perc', 'gdp',  'pop_growth_perc', 'urb_pop_growth_perc','co2_ttl']\n",
    "label_col = ['classify']"
   ]
  },
  {
   "cell_type": "code",
   "execution_count": 70,
   "id": "161739c2",
   "metadata": {},
   "outputs": [],
   "source": [
    "from sklearn.model_selection import train_test_split\n",
    "X_train, X_test, y_train, y_test = train_test_split(X, y, test_size = 0.25, random_state = 0)"
   ]
  },
  {
   "cell_type": "code",
   "execution_count": 71,
   "id": "5a2df252",
   "metadata": {},
   "outputs": [],
   "source": [
    "from sklearn.preprocessing import StandardScaler\n",
    "sc = StandardScaler()\n",
    "X_train = sc.fit_transform(X_train)\n",
    "X_test = sc.transform(X_test)"
   ]
  },
  {
   "cell_type": "code",
   "execution_count": 72,
   "id": "ef440641",
   "metadata": {},
   "outputs": [
    {
     "data": {
      "text/plain": [
       "SVC(kernel='linear', random_state=0)"
      ]
     },
     "execution_count": 72,
     "metadata": {},
     "output_type": "execute_result"
    }
   ],
   "source": [
    "from sklearn.svm import SVC\n",
    "classif = SVC(kernel = 'linear', random_state = 0)\n",
    "classif.fit(X_train, y_train)"
   ]
  },
  {
   "cell_type": "code",
   "execution_count": 73,
   "id": "dd827690",
   "metadata": {},
   "outputs": [],
   "source": [
    "y_pred = classif.predict(X_test)\n"
   ]
  },
  {
   "cell_type": "code",
   "execution_count": 74,
   "id": "00374743",
   "metadata": {},
   "outputs": [
    {
     "name": "stdout",
     "output_type": "stream",
     "text": [
      "[[278  13]\n",
      " [ 71  60]]\n"
     ]
    },
    {
     "data": {
      "text/plain": [
       "0.8009478672985783"
      ]
     },
     "execution_count": 74,
     "metadata": {},
     "output_type": "execute_result"
    }
   ],
   "source": [
    "from sklearn.metrics import confusion_matrix, accuracy_score\n",
    "cm = confusion_matrix(y_test, y_pred)\n",
    "print(cm)\n",
    "accuracy_score(y_test, y_pred)"
   ]
  },
  {
   "cell_type": "code",
   "execution_count": null,
   "id": "6d94e70f",
   "metadata": {},
   "outputs": [],
   "source": [
    "x1=classif.predict([])"
   ]
  }
 ],
 "metadata": {
  "kernelspec": {
   "display_name": "Python 3 (ipykernel)",
   "language": "python",
   "name": "python3"
  },
  "language_info": {
   "codemirror_mode": {
    "name": "ipython",
    "version": 3
   },
   "file_extension": ".py",
   "mimetype": "text/x-python",
   "name": "python",
   "nbconvert_exporter": "python",
   "pygments_lexer": "ipython3",
   "version": "3.9.13"
  }
 },
 "nbformat": 4,
 "nbformat_minor": 5
}
